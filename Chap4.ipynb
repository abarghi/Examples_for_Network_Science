{
 "cells": [
  {
   "cell_type": "markdown",
   "metadata": {},
   "source": [
    "# Using R in Teaching from *Network Science*\n",
    "\n",
    "### Amir Barghi, Department of Mathematics and Statistics, Saint Michael's College\n",
    "\n",
    "----\n",
    "\n",
    "# Chap. 4: The Scale Free Property"
   ]
  },
  {
   "cell_type": "code",
   "execution_count": null,
   "metadata": {},
   "outputs": [],
   "source": [
    "# configuring figure size\n",
    "options(repr.plot.width = 6, repr.plot.height = 4)"
   ]
  },
  {
   "cell_type": "markdown",
   "metadata": {},
   "source": [
    "# Loading Packages"
   ]
  },
  {
   "cell_type": "code",
   "execution_count": null,
   "metadata": {},
   "outputs": [],
   "source": [
    "# uncomment the following lines if you have not installed qdread/forestscaling; for more information, see https://github.com/qdread/forestscaling/\n",
    "\n",
    "#install.packages('remotes')\n",
    "#remotes::install_github('qdread/forestscaling')"
   ]
  },
  {
   "cell_type": "code",
   "execution_count": null,
   "metadata": {
    "attributes": {
     "": "",
     "classes": [],
     "id": ""
    }
   },
   "outputs": [],
   "source": [
    "library(tidyverse)\n",
    "\n",
    "library(igraph)\n",
    "\n",
    "library(igraphdata)\n",
    "\n",
    "library(ggraph)\n",
    "\n",
    "library(e1071)\n",
    "\n",
    "library(forestscaling)\n",
    "\n",
    "library(latex2exp)"
   ]
  },
  {
   "cell_type": "markdown",
   "metadata": {},
   "source": [
    "# Loading the Data Set \n",
    "\n",
    "## Data from [`igraphdata::yeast`](https://github.com/igraph/igraphdata)\n",
    "\n",
    "Data Source: von Mering, C., Krause, R., Snel, B. et al. Comparative assessment of large-scale data sets of protein–protein interactions. *Nature* **417**, 399–403 (2002). https://doi.org/10.1038/nature750"
   ]
  },
  {
   "cell_type": "markdown",
   "metadata": {},
   "source": [
    "## Yeast Protein Interaction Network"
   ]
  },
  {
   "cell_type": "code",
   "execution_count": null,
   "metadata": {},
   "outputs": [],
   "source": [
    "data(yeast)\n",
    "\n",
    "g <- yeast"
   ]
  },
  {
   "cell_type": "code",
   "execution_count": null,
   "metadata": {},
   "outputs": [],
   "source": [
    "set.seed(42)\n",
    "\n",
    "ggraph(g, layout = 'mds') + \n",
    "  geom_edge_fan(edge_linetype = 3, color = 'dark blue', alpha = 0.25) + \n",
    "  geom_node_point(color = 'dark red', size = .75, alpha = 0.75) + \n",
    "  theme_graph(base_family = 'Helvetica') +\n",
    "  labs(title = 'Yeast Interaction Network',\n",
    "       subtitle = 'Displayed Using Multidimensional Scaling Layout')"
   ]
  },
  {
   "cell_type": "markdown",
   "metadata": {},
   "source": [
    "# 2.11 Summary"
   ]
  },
  {
   "cell_type": "code",
   "execution_count": null,
   "metadata": {},
   "outputs": [],
   "source": [
    "suppressMessages(df <- bind_cols(enframe(eccentricity(g)), \n",
    "                                 enframe(betweenness(g)), \n",
    "                                 enframe(degree(g)), \n",
    "                                 enframe(transitivity(g, type = c('local')))))\n",
    "\n",
    "df <- df %>% select(name...1, value...2, value...4, value...6, value...8)\n",
    "\n",
    "names(df) <- c('name', 'eccentricity', 'betweenness', 'degree', 'clustering')\n",
    "\n",
    "head(df)\n",
    "\n",
    "tail(df)\n",
    "\n",
    "glimpse(df)"
   ]
  },
  {
   "cell_type": "code",
   "execution_count": null,
   "metadata": {},
   "outputs": [],
   "source": [
    "df %>% \n",
    "  summarize(avg_deg = mean(degree), \n",
    "            delta = max(degree), \n",
    "            prop = sum(degree <= avg_deg) / n(), \n",
    "            diam = max(eccentricity),\n",
    "            radius = min(eccentricity),\n",
    "            avg_cc = mean(clustering, na.rm = TRUE),\n",
    "            avg_distance = mean_distance(g, directed = FALSE, unconnected = TRUE))"
   ]
  },
  {
   "cell_type": "markdown",
   "metadata": {},
   "source": [
    "# 4.3 Hubs"
   ]
  },
  {
   "cell_type": "code",
   "execution_count": null,
   "metadata": {},
   "outputs": [],
   "source": [
    "df %>% \n",
    "  ggplot(aes(x = degree, y = ..density..)) + \n",
    "  geom_density(fill = 'red') + \n",
    "  labs(title = 'KDE of Degrees in the Yeast Data Set')"
   ]
  },
  {
   "cell_type": "code",
   "execution_count": null,
   "metadata": {},
   "outputs": [],
   "source": [
    "df %>% \n",
    "  ggplot(aes(x = degree, y = ..density..)) + \n",
    "  geom_histogram(binwidth = 1, fill = 'blue') +\n",
    "  labs(title = 'Histogram of Degrees in the Yeast Data Set')"
   ]
  },
  {
   "cell_type": "code",
   "execution_count": null,
   "metadata": {},
   "outputs": [],
   "source": [
    "# the top 20 degree values\n",
    "df %>% arrange(desc(degree)) %>% head(20)"
   ]
  },
  {
   "cell_type": "code",
   "execution_count": null,
   "metadata": {},
   "outputs": [],
   "source": [
    "df %>%\n",
    "  summarize(avg_deg = mean(df$degree),\n",
    "            sd_deg = sd(df$degree),\n",
    "            second_moment_deg = moment(df$degree, 2),\n",
    "            var_deg = moment(df$degree, 2) - moment(df$degree,1)**2,\n",
    "            sd_deg_formula = sqrt(moment(df$degree, 2) - moment(df$degree,1)**2))"
   ]
  },
  {
   "cell_type": "markdown",
   "metadata": {},
   "source": [
    "# 4.5 Universality and 4.13 Advanced Topics 4.C: Estimating the Degree Exponent"
   ]
  },
  {
   "cell_type": "code",
   "execution_count": null,
   "metadata": {},
   "outputs": [],
   "source": [
    "(pl.fit <- fit_power_law(df$degree, implementation = 'plfit'))"
   ]
  },
  {
   "cell_type": "code",
   "execution_count": null,
   "metadata": {},
   "outputs": [],
   "source": [
    "fit_power_law(df$degree, implementation = 'plfit', force.continuous = TRUE)"
   ]
  },
  {
   "cell_type": "code",
   "execution_count": null,
   "metadata": {},
   "outputs": [],
   "source": [
    "# maximum likelihood optimizing function\n",
    "fit_power_law(df$degree, implementation = 'R.mle')"
   ]
  },
  {
   "cell_type": "code",
   "execution_count": null,
   "metadata": {},
   "outputs": [],
   "source": [
    "# maximum likelihood optimizing function\n",
    "fit_power_law(df$degree, xmin = 13, implementation = 'R.mle')"
   ]
  },
  {
   "cell_type": "code",
   "execution_count": null,
   "metadata": {},
   "outputs": [],
   "source": [
    "total <- sum(df$degree)\n",
    "\n",
    "df %>% \n",
    "  group_by(degree) %>% \n",
    "  mutate(k = degree,  p_k = n() / gorder(g)) %>% \n",
    "  ungroup() %>%\n",
    "  ggplot(aes(x = k, y = p_k)) + \n",
    "  geom_point(color = 'blue', size = .5) + \n",
    "  scale_x_log10() + \n",
    "  scale_y_log10() +\n",
    "  labs(title = 'Log-Log Scale, Linear Binning for Degree Distribution',\n",
    "       subtitle = 'in the Yeast Data Set') +\n",
    "  labs(y = TeX('$p_k$'))"
   ]
  },
  {
   "cell_type": "markdown",
   "metadata": {},
   "source": [
    "# 4.12 Advanced Topics 4.B: Plotting Power Laws Degree Sequence Scatter Plot"
   ]
  },
  {
   "cell_type": "code",
   "execution_count": null,
   "metadata": {},
   "outputs": [],
   "source": [
    "df %>% \n",
    "  group_by(degree) %>% \n",
    "  mutate(k = degree,  count = n()) %>% \n",
    "  ungroup() %>%\n",
    "  ggplot(aes(x = k, y = count)) + \n",
    "  geom_point(color = 'red', size = .5) +\n",
    "  labs(title = 'Degree Distribution (Counts) in the Yeast Data Set')"
   ]
  },
  {
   "cell_type": "code",
   "execution_count": null,
   "metadata": {},
   "outputs": [],
   "source": [
    "df %>% \n",
    "  group_by(degree) %>% \n",
    "  mutate(k = degree,  p_k = n() / gorder(g)) %>% \n",
    "  ungroup() %>%\n",
    "  ggplot(aes(x = k, y = p_k)) + \n",
    "  geom_point(color = 'blue', size = .5) + \n",
    "  labs(title = 'Degree Distribution (Proportions) in the Yeast Data Set') +\n",
    "  labs(y = TeX('$p_k$'))"
   ]
  },
  {
   "cell_type": "markdown",
   "metadata": {},
   "source": [
    "### Fig. 4.22(b) Log-Log Scale, Linear Binning"
   ]
  },
  {
   "cell_type": "code",
   "execution_count": null,
   "metadata": {},
   "outputs": [],
   "source": [
    "df %>% \n",
    "  group_by(degree) %>% \n",
    "  mutate(k = degree,  p_k = n() / gorder(g)) %>% \n",
    "  ungroup() %>%\n",
    "  ggplot(aes(x = k, y = p_k)) + \n",
    "  geom_point(color = 'blue', size = .5) + \n",
    "  geom_line(aes(x = degree, y = degree ** (-pl.fit$alpha)), \n",
    "            color = 'red') + \n",
    "  scale_x_log10() + \n",
    "  scale_y_log10() +\n",
    "  labs(y = TeX('$p_k$')) +\n",
    "  labs(title = 'Log-Log Scale, Linear Binning for Degree Distribution',\n",
    "       subtitle = 'with Fitted Power Law Curve in the Yeast Data Set')"
   ]
  },
  {
   "cell_type": "markdown",
   "metadata": {},
   "source": [
    "### Fig. 4.22(c) Log-Log Scale, Logarithmic Binning"
   ]
  },
  {
   "cell_type": "code",
   "execution_count": null,
   "metadata": {},
   "outputs": [],
   "source": [
    "df2 <- logbin(df$degree, n = 100) #change n to 10, 15, 20, 25, 50, 75 to compare\n",
    "\n",
    "df2\n",
    "\n",
    "total2 <- sum(df2$bin_value)"
   ]
  },
  {
   "cell_type": "code",
   "execution_count": null,
   "metadata": {},
   "outputs": [],
   "source": [
    "df2 %>% \n",
    "  filter(bin_count != 0) %>% \n",
    "  ggplot(aes(x = bin_midpoint, y = bin_value / total2)) + \n",
    "  geom_point(color = 'blue', size = .5) + \n",
    "  geom_line(data = df, \n",
    "            aes(x = degree, y = degree ** (-pl.fit$alpha)), \n",
    "            color = 'red') + \n",
    "  scale_x_log10() + \n",
    "  scale_y_log10() +\n",
    "  labs(y = TeX('$p_k$'), x = 'k') +\n",
    "  labs(title = 'Log-Log Scale, Logarithmic Binning for Degree Distribution',\n",
    "       subtitle = 'with Fitted Power Law Curve in the Yeast Data Set')"
   ]
  },
  {
   "cell_type": "markdown",
   "metadata": {},
   "source": [
    "# 4.6 Ultra-Small-World Property"
   ]
  },
  {
   "cell_type": "code",
   "execution_count": null,
   "metadata": {},
   "outputs": [],
   "source": [
    "mean_distance(g, directed = FALSE, unconnected = TRUE)\n",
    "\n",
    "log(log(vcount(g)))"
   ]
  },
  {
   "cell_type": "markdown",
   "metadata": {},
   "source": [
    "# 4.8 Generating Networks with Arbitrary Degree Distribution\n",
    "\n",
    "## 4.8.1 Configuration Model"
   ]
  },
  {
   "cell_type": "code",
   "execution_count": null,
   "metadata": {},
   "outputs": [],
   "source": [
    "set.seed(42)\n",
    "\n",
    "h <- sample_degseq(df$degree, method = 'simple.no.multiple') # method = c('simple', 'vl', 'simple.no.multiple')"
   ]
  },
  {
   "cell_type": "code",
   "execution_count": null,
   "metadata": {},
   "outputs": [],
   "source": [
    "set.seed(42)\n",
    "\n",
    "ggraph(h, layout = 'mds') + \n",
    "  geom_edge_fan(edge_linetype = 3, color = 'dark blue', alpha = 0.25) + \n",
    "  geom_node_point(color = 'dark red', size = .75, alpha = 0.75) + \n",
    "  theme_graph(base_family = 'Helvetica') +\n",
    "  labs(title = 'A Reconfigured Yeast Interaction Network',\n",
    "       subtitle = 'Displayed Using Multidimensional Scaling Layout')"
   ]
  },
  {
   "cell_type": "code",
   "execution_count": null,
   "metadata": {},
   "outputs": [],
   "source": [
    "suppressMessages(df3 <- bind_cols(enframe(eccentricity(h)), \n",
    "                                  enframe(betweenness(h)), \n",
    "                                  enframe(degree(h)), \n",
    "                                  enframe(transitivity(h, type = c('local')))))\n",
    "\n",
    "df3 <- df3 %>% select(name...1, value...2, value...4, value...6, value...8)\n",
    "\n",
    "names(df3) <- c('name', 'eccentricity', 'betweenness', 'degree', 'clustering')"
   ]
  },
  {
   "cell_type": "code",
   "execution_count": null,
   "metadata": {},
   "outputs": [],
   "source": [
    "df3 %>% \n",
    "  summarize(avg_deg = mean(degree), \n",
    "            delta = max(degree), \n",
    "            prop = sum(degree <= avg_deg) / n(), \n",
    "            diam = max(eccentricity),\n",
    "            radius = min(eccentricity),\n",
    "            avg_cc = mean(clustering, na.rm = TRUE))"
   ]
  },
  {
   "cell_type": "code",
   "execution_count": null,
   "metadata": {},
   "outputs": [],
   "source": [
    "df3 %>% \n",
    "  ggplot(aes(x = degree, y = ..density..)) + \n",
    "  geom_density(fill = 'red') +\n",
    "  labs(title = 'KDE of Degrees in the Reconfigured Yeast Data Set')"
   ]
  },
  {
   "cell_type": "code",
   "execution_count": null,
   "metadata": {},
   "outputs": [],
   "source": [
    "df3 %>% \n",
    "  ggplot(aes(x = degree, y = ..density..)) + \n",
    "  geom_histogram(binwidth = 1, fill = 'blue') +\n",
    "  labs(title = 'Histogram of Degrees in the Reconfigured Yeast Data Set')"
   ]
  },
  {
   "cell_type": "code",
   "execution_count": null,
   "metadata": {},
   "outputs": [],
   "source": [
    "(pl.fit2 <- fit_power_law(df3$degree, implementation = 'plfit'))"
   ]
  },
  {
   "cell_type": "code",
   "execution_count": null,
   "metadata": {},
   "outputs": [],
   "source": [
    "df3 %>% \n",
    "  group_by(degree) %>% \n",
    "  mutate(k = degree,  p_k = n() / gorder(h)) %>% \n",
    "  ungroup() %>%\n",
    "  ggplot(aes(x = k, y = p_k)) + \n",
    "  geom_point(color = 'blue', size = .5) +\n",
    "  labs(title = 'Degree Distribution (Proportions) in the Reconfigured Yeast Data Set') +\n",
    "  labs(y = TeX('$p_k$'))"
   ]
  },
  {
   "cell_type": "code",
   "execution_count": null,
   "metadata": {},
   "outputs": [],
   "source": [
    "df4 <- logbin(df3$degree, n = 100)\n",
    "\n",
    "total4 <- sum(df4$bin_value)\n",
    "\n",
    "df4 %>% \n",
    "  filter(bin_count != 0) %>% \n",
    "  ggplot(aes(x = bin_midpoint, y = bin_value / total4)) + \n",
    "  geom_point(color = 'blue', size = .5) + \n",
    "  geom_line(data = df3, \n",
    "            aes(x = degree, y = degree ** (-pl.fit2$alpha)), \n",
    "            color = 'red') + \n",
    "  scale_x_log10() + \n",
    "  scale_y_log10() +\n",
    "  labs(y = TeX('$p_k$'), x = 'k') +\n",
    "  labs(title = 'Log-Log Scale, Logarithmic Binning for Degree Distribution',\n",
    "       subtitle = 'with Fitted Power Law Curve in the Reconfigured Yeast Data Set')\n"
   ]
  },
  {
   "cell_type": "markdown",
   "metadata": {},
   "source": [
    "## 4.8.2 Degree-preserving Randomization"
   ]
  },
  {
   "cell_type": "code",
   "execution_count": null,
   "metadata": {},
   "outputs": [],
   "source": [
    "set.seed(42)\n",
    "\n",
    "data(yeast)\n",
    "\n",
    "f <- yeast\n",
    "\n",
    "f <- rewire(f, keeping_degseq(niter = gorder(f) * 10))"
   ]
  },
  {
   "cell_type": "code",
   "execution_count": null,
   "metadata": {},
   "outputs": [],
   "source": [
    "set.seed(42)\n",
    "\n",
    "ggraph(f, layout = 'mds') + \n",
    "  geom_edge_fan(edge_linetype = 3, color = 'dark blue', alpha = 0.25) + \n",
    "  geom_node_point(color = 'dark red', size = .75, alpha = 0.75) + \n",
    "  theme_graph(base_family = 'Helvetica') +\n",
    "  labs(title = 'A Randomized Yeast Interaction Network',\n",
    "       subtitle = 'Displayed Using Multidimensional Scaling Layout')"
   ]
  },
  {
   "cell_type": "code",
   "execution_count": null,
   "metadata": {},
   "outputs": [],
   "source": [
    "suppressMessages(df5 <- bind_cols(enframe(eccentricity(f)), \n",
    "                                  enframe(betweenness(f)), \n",
    "                                  enframe(degree(f)), \n",
    "                                  enframe(transitivity(f, type = c('local')))))\n",
    "\n",
    "df5 <- df5 %>% select(name...1, value...2, value...4, value...6, value...8)\n",
    "\n",
    "names(df5) <- c('name', 'eccentricity', 'betweenness', 'degree', 'clustering')"
   ]
  },
  {
   "cell_type": "code",
   "execution_count": null,
   "metadata": {},
   "outputs": [],
   "source": [
    "df5 %>% \n",
    "  summarize(avg_deg = mean(degree), \n",
    "            delta = max(degree), \n",
    "            prop = sum(degree <= avg_deg) / n(), \n",
    "            diam = max(eccentricity), \n",
    "            radius = min(eccentricity),\n",
    "            avg_cc = mean(clustering, na.rm = TRUE))"
   ]
  },
  {
   "cell_type": "code",
   "execution_count": null,
   "metadata": {},
   "outputs": [],
   "source": [
    "df5 %>% \n",
    "  ggplot(aes(x = degree, y = ..density..)) + \n",
    "  geom_density(fill = 'red') +\n",
    "  labs(title = 'KDE of Degrees in the Randomized Yeast Data Set')"
   ]
  },
  {
   "cell_type": "code",
   "execution_count": null,
   "metadata": {},
   "outputs": [],
   "source": [
    "df5 %>% \n",
    "  ggplot(aes(x = degree, y = ..density..)) + \n",
    "  geom_histogram(binwidth = 1, fill = 'blue') + \n",
    "  labs(title = 'Histrogram of Degrees in the Randomized Yeast Data Set')"
   ]
  },
  {
   "cell_type": "code",
   "execution_count": null,
   "metadata": {},
   "outputs": [],
   "source": [
    "(pl.fit3 <- fit_power_law(df5$degree, implementation = 'plfit'))"
   ]
  },
  {
   "cell_type": "code",
   "execution_count": null,
   "metadata": {},
   "outputs": [],
   "source": [
    "df5 %>% \n",
    "  group_by(degree) %>% \n",
    "  mutate(k = degree,  p_k = n() / gorder(f)) %>%\n",
    "  ungroup() %>%\n",
    "  ggplot(aes(x = k, y = p_k)) + \n",
    "  geom_point(color = 'blue', size = .5) + \n",
    "  labs(title = 'Degree Distribution (Proportions) in the Randomized Yeast Data Set') +\n",
    "  labs(y = TeX('$p_k$'))"
   ]
  },
  {
   "cell_type": "code",
   "execution_count": null,
   "metadata": {},
   "outputs": [],
   "source": [
    "df6 <- logbin(df5$degree, n = 100)\n",
    "\n",
    "total6 <- sum(df6$bin_value)\n",
    "\n",
    "df6 %>% filter(bin_count != 0) %>% \n",
    "  ggplot(aes(x = bin_midpoint, y = bin_value/total6)) + \n",
    "  geom_point(color = 'blue', size = .5) + \n",
    "  geom_line(data = df5, \n",
    "            aes(x = degree, y = degree ** (-pl.fit3$alpha)), \n",
    "            color = 'red') + \n",
    "  scale_x_log10() + \n",
    "  scale_y_log10() +\n",
    "  labs(y = TeX('$p_k$'), x = 'k') +\n",
    "  labs(title = 'Log-Log Scale, Logarithmic Binning for Degree Distribution',\n",
    "       subtitle = 'with Fitted Power Law Curve in the Randomized Yeast Data Set')"
   ]
  },
  {
   "cell_type": "markdown",
   "metadata": {},
   "source": [
    "# References\n",
    "\n",
    "- Albert-Laszlo Barabasi, *Network Science*, Cambridge University Press, 2016. *Network Science* is available online at http://networksciencebook.com/ under the following license: \"This book's text and illustrations are licensed under a [Creative Commons Attribution-NonCommercial 3.0 Unported License](https://creativecommons.org/licenses/by-nc/3.0/).\"\n",
    "- von Mering, C., Krause, R., Snel, B. et al. Comparative assessment of large-scale data sets of protein–protein interactions. *Nature* **417**, 399–403 (2002). https://doi.org/10.1038/nature750"
   ]
  }
 ],
 "metadata": {
  "kernelspec": {
   "display_name": "R",
   "language": "R",
   "name": "ir"
  },
  "language_info": {
   "codemirror_mode": "r",
   "file_extension": ".r",
   "mimetype": "text/x-r-source",
   "name": "R",
   "pygments_lexer": "r",
   "version": "4.2.0"
  }
 },
 "nbformat": 4,
 "nbformat_minor": 4
}
