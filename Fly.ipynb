{
 "cells": [
  {
   "cell_type": "markdown",
   "metadata": {},
   "source": [
    "# Fly (*Drosophila Medulla*) Connectome\n",
    "\n",
    "## Examples for Teaching from *Network Science*, by Albert-Laszlo Barabasi, Cambridge University Press, 2016\n",
    "\n",
    "### Amir Barghi"
   ]
  },
  {
   "cell_type": "markdown",
   "metadata": {},
   "source": [
    "# Loading Packages"
   ]
  },
  {
   "cell_type": "code",
   "execution_count": null,
   "metadata": {
    "attributes": {
     "": "",
     "classes": [],
     "id": ""
    }
   },
   "outputs": [],
   "source": [
    "library(tidyverse)\n",
    "\n",
    "library(igraph)\n",
    "\n",
    "library(igraphdata)\n",
    "\n",
    "library(ggraph)\n",
    "\n",
    "library(latex2exp)"
   ]
  },
  {
   "cell_type": "markdown",
   "metadata": {},
   "source": [
    "# Loading the Data Set\n",
    "\n",
    "## Data from [NeuroData's Graph DataBase](https://neurodata.io/project/connectomes/)"
   ]
  },
  {
   "cell_type": "code",
   "execution_count": null,
   "metadata": {},
   "outputs": [],
   "source": [
    "g <- read_graph('https://s3.amazonaws.com/connectome-graphs/fly/drosophila_medulla_1.graphml', \n",
    "                format = 'graphml')"
   ]
  },
  {
   "cell_type": "code",
   "execution_count": null,
   "metadata": {},
   "outputs": [],
   "source": [
    "V(g)\n",
    "\n",
    "E(g)\n",
    "\n",
    "components(g)$no\n",
    "\n",
    "components(g)$csize\n",
    "\n",
    "glimpse(vertex_attr(g))\n",
    "\n",
    "glimpse(edge_attr(g))\n",
    "\n",
    "vertex_attr(g, name = 'name')[1:10]\n",
    "\n",
    "edge_attr(g, name = 'proofreading.details')[1:10]"
   ]
  },
  {
   "cell_type": "markdown",
   "metadata": {},
   "source": [
    "# Visualizing the Fly Connectome"
   ]
  },
  {
   "cell_type": "code",
   "execution_count": null,
   "metadata": {},
   "outputs": [],
   "source": [
    "set.seed(42)\n",
    "\n",
    "ggraph(g, layout = 'lgl') + \n",
    "  geom_edge_fan(edge_linetype = 3, color = 'dark blue', alpha = 0.25) + \n",
    "  geom_node_point(color = 'dark red', size = 1, alpha = 0.75) + \n",
    "  theme_graph(base_family = 'Helvetica') +\n",
    "  labs(title = 'Fly Connectome',\n",
    "       subtitle = 'Displayed Using Layout Generator for Larger Graphs')"
   ]
  },
  {
   "cell_type": "code",
   "execution_count": null,
   "metadata": {},
   "outputs": [],
   "source": [
    "set.seed(42)\n",
    "\n",
    "ggraph(g, layout = 'drl') + \n",
    "  geom_edge_fan(edge_linetype = 3, color = 'dark blue', alpha = 0.25) + \n",
    "  geom_node_point(color = 'dark red', size = 1, alpha = 0.75) + \n",
    "  theme_graph(base_family = 'Helvetica') +\n",
    "  labs(title = 'Fly Connectome',\n",
    "       subtitle = 'Displayed Using Distributed Recursive Layout')"
   ]
  },
  {
   "cell_type": "code",
   "execution_count": null,
   "metadata": {},
   "outputs": [],
   "source": [
    "set.seed(42)\n",
    "\n",
    "ggraph(g, layout = 'mds') + \n",
    "  geom_edge_fan(edge_linetype = 3, color = 'dark blue', alpha = 0.25) + \n",
    "  geom_node_point(color = 'dark red', size = 1, alpha = 0.75) + \n",
    "  theme_graph(base_family = 'Helvetica') +\n",
    "  labs(title = 'Fly Connectome',\n",
    "       subtitle = 'Displayed Using Multidimensional Scaling Layout')"
   ]
  },
  {
   "cell_type": "markdown",
   "metadata": {},
   "source": [
    "# Summary Statistics of the Fly Connectome"
   ]
  },
  {
   "cell_type": "code",
   "execution_count": null,
   "metadata": {},
   "outputs": [],
   "source": [
    "suppressMessages(df <- bind_cols(enframe(eccentricity(g, mode = 'out')), \n",
    "                                 enframe(betweenness(g)), \n",
    "                                 enframe(degree(g, mode = 'out')), \n",
    "                                 enframe(transitivity(g, type = c('local')))))\n",
    "\n",
    "df <- df %>% select(name...1, value...2, value...4, value...6, value...8)\n",
    "\n",
    "names(df) <- c('name', 'eccentricity', 'betweenness', 'outdegree', 'clustering')\n",
    "\n",
    "head(df)\n",
    "\n",
    "tail(df)\n",
    "\n",
    "glimpse(df)"
   ]
  },
  {
   "cell_type": "code",
   "execution_count": null,
   "metadata": {},
   "outputs": [],
   "source": [
    "df %>% \n",
    "  summarize(avg_deg = mean(outdegree), \n",
    "            delta = max(outdegree), \n",
    "            prop = sum(outdegree <= avg_deg) / n(), \n",
    "            diam = max(eccentricity),\n",
    "            radius = min(eccentricity),\n",
    "            avg_cc = mean(clustering, na.rm = TRUE),\n",
    "            avg_distance = mean_distance(g, directed = TRUE, unconnected = TRUE))"
   ]
  },
  {
   "cell_type": "code",
   "execution_count": null,
   "metadata": {},
   "outputs": [],
   "source": [
    "(d <- mean_distance(g, directed = TRUE, unconnected = TRUE))\n",
    "\n",
    "mean(distances(g))"
   ]
  },
  {
   "cell_type": "markdown",
   "metadata": {},
   "source": [
    "## Fig. 2.18(a) on p. 66"
   ]
  },
  {
   "cell_type": "code",
   "execution_count": null,
   "metadata": {},
   "outputs": [],
   "source": [
    "distance_table(g)\n",
    "\n",
    "D <- data.frame(1:length(distance_table(g)$res), \n",
    "                distance_table(g)$res / sum(distance_table(g)$res))\n",
    "\n",
    "names(D) <- c('x', 'y')\n",
    "\n",
    "D %>% \n",
    "  ggplot(aes(x = x, y = y)) + \n",
    "  geom_point() + \n",
    "  geom_line(aes(x = d), color = 'blue') +\n",
    "  labs(title = 'Distribution of Distance (Proportions) in the Fly Connectome') +\n",
    "  labs(x = 'distance', y = 'density')"
   ]
  },
  {
   "cell_type": "markdown",
   "metadata": {},
   "source": [
    "## The Outdegree Distribution"
   ]
  },
  {
   "cell_type": "code",
   "execution_count": null,
   "metadata": {},
   "outputs": [],
   "source": [
    "df %>% \n",
    "  ggplot(aes(x = outdegree, y = ..density..)) + \n",
    "  geom_density(fill = 'red') +\n",
    "  labs(title = 'KDE of Outdegrees in the Fly Connectome')"
   ]
  },
  {
   "cell_type": "code",
   "execution_count": null,
   "metadata": {},
   "outputs": [],
   "source": [
    "df %>% \n",
    "  ggplot(aes(x = outdegree, y = ..density..)) + \n",
    "  geom_histogram(binwidth = 1, fill = 'blue') +\n",
    "  labs(title = 'Histogram of Outdegrees in the Fly Connectome')"
   ]
  },
  {
   "cell_type": "code",
   "execution_count": null,
   "metadata": {},
   "outputs": [],
   "source": [
    "df %>% \n",
    "  filter(outdegree <= 20) %>% \n",
    "  ggplot(aes(x = outdegree, y = ..density..)) + \n",
    "  geom_density(fill = 'red') + \n",
    "  labs(title = 'KDE of Outdegrees in the Fly Connectome',\n",
    "       subtitle = TeX('for Nodes with Outdegree $\\\\leq 20$'))"
   ]
  },
  {
   "cell_type": "code",
   "execution_count": null,
   "metadata": {},
   "outputs": [],
   "source": [
    "df %>% \n",
    "  filter(outdegree <= 20) %>% \n",
    "  ggplot(aes(x = outdegree, y = ..density..)) + \n",
    "  geom_histogram(binwidth = 1, fill = 'blue') +\n",
    "  labs(title = 'Histogram of Outdegrees in the Fly Connectome',\n",
    "       subtitle = TeX('for Nodes with Outdegree $\\\\leq 20$'))"
   ]
  },
  {
   "cell_type": "markdown",
   "metadata": {},
   "source": [
    "## Fig. 2.18(b) on p. 66"
   ]
  },
  {
   "cell_type": "code",
   "execution_count": null,
   "metadata": {
    "attributes": {
     "": "",
     "classes": [],
     "id": ""
    }
   },
   "outputs": [],
   "source": [
    "df %>% \n",
    "  group_by(outdegree) %>% \n",
    "  summarise(cc_deg = mean(clustering, na.rm = TRUE)) %>%\n",
    "  ungroup() %>%\n",
    "  filter(outdegree > 0) %>%\n",
    "  ggplot(aes(x = outdegree, y = cc_deg)) + \n",
    "  geom_point(na.rm = TRUE, color = 'blue') + \n",
    "  scale_x_log10() + \n",
    "  scale_y_log10() +\n",
    "  labs(title = 'Relation Between Local Clustering Coefficient and Outdegree',\n",
    "       subtitle = 'in the Fly Connectome') +\n",
    "  labs(x = TeX('$p_k$'), y = TeX('$C_k$'))"
   ]
  },
  {
   "cell_type": "markdown",
   "metadata": {},
   "source": [
    "## Local Clustering Coefficient Distribution"
   ]
  },
  {
   "cell_type": "code",
   "execution_count": null,
   "metadata": {},
   "outputs": [],
   "source": [
    "df %>% \n",
    "  ggplot(aes(x = clustering, y = ..density..)) + \n",
    "  geom_density(fill = 'red', na.rm = TRUE) +\n",
    "  labs(title = 'KDE of Local Clustering Coefficients in the Fly Connectome')"
   ]
  },
  {
   "cell_type": "code",
   "execution_count": null,
   "metadata": {},
   "outputs": [],
   "source": [
    "df %>% \n",
    "ggplot(aes(x = clustering, y = ..density..)) + \n",
    "  geom_histogram(binwidth = .1, fill = 'blue', na.rm = TRUE) +\n",
    "  labs(title = 'Histogram of Local Clustering Coefficients in the Fly Connectome')"
   ]
  },
  {
   "cell_type": "code",
   "execution_count": null,
   "metadata": {},
   "outputs": [],
   "source": [
    "log(gorder(g)) / log(mean(df$outdegree))\n",
    "\n",
    "mean_distance(g, directed = TRUE, unconnected = TRUE)\n",
    "\n",
    "diameter(g)"
   ]
  },
  {
   "cell_type": "code",
   "execution_count": null,
   "metadata": {
    "attributes": {
     "": "",
     "classes": [],
     "id": ""
    }
   },
   "outputs": [],
   "source": [
    "C <- mean(df$clustering, na.rm = TRUE)\n",
    "\n",
    "M <- mean(df$outdegree)\n",
    "\n",
    "df %>%\n",
    "  group_by(outdegree) %>% \n",
    "  summarise(cc_deg = mean(clustering)) %>%\n",
    "  ungroup()"
   ]
  },
  {
   "cell_type": "markdown",
   "metadata": {},
   "source": [
    "## Fig. 3.13(d) on p. 96"
   ]
  },
  {
   "cell_type": "code",
   "execution_count": null,
   "metadata": {
    "attributes": {
     "": "",
     "classes": [],
     "id": ""
    }
   },
   "outputs": [],
   "source": [
    "df %>% \n",
    "  group_by(outdegree) %>% \n",
    "  summarise(cc_deg = mean(clustering)) %>%\n",
    "  filter(outdegree > 0) %>%\n",
    "  ggplot(aes(x = outdegree, y = cc_deg)) + \n",
    "  geom_point(na.rm = TRUE, color = 'blue') + \n",
    "  geom_line(aes(y = C), color = 'blue') + \n",
    "  geom_line(aes(y = M / gorder(g)), color = 'red') + \n",
    "  scale_x_log10() + \n",
    "  scale_y_log10() + \n",
    "  labs(title =  'Relation Between Local Clustering Coefficient and Outdegree',\n",
    "       subtitle = 'The blue line is the average local clustering coefficient; \\nthe red one is the one predicted by the random model.') +\n",
    "  labs(x = 'k', y = TeX('$C(k)$'))"
   ]
  },
  {
   "cell_type": "markdown",
   "metadata": {},
   "source": [
    "## Visualizing Other Relations with Outdegree"
   ]
  },
  {
   "cell_type": "code",
   "execution_count": null,
   "metadata": {},
   "outputs": [],
   "source": [
    "df %>%\n",
    "  filter(outdegree > 0) %>%\n",
    "  ggplot(aes(x = outdegree, y = betweenness)) + \n",
    "  geom_point(na.rm = TRUE, size = 0.5, color = 'red') + \n",
    "  scale_x_log10() +\n",
    "  labs(title = 'Relationship Between Betweenness Centrality and Outdegree') +\n",
    "  labs(x = TeX('$\\\\log_{10}$(outdegree)'))"
   ]
  },
  {
   "cell_type": "code",
   "execution_count": null,
   "metadata": {},
   "outputs": [],
   "source": [
    "df %>% \n",
    "  filter(outdegree > 0) %>%\n",
    "  ggplot(aes(x = outdegree, y = betweenness + 0.00000001)) + \n",
    "  geom_point(na.rm = TRUE, size = 0.5, color = 'red') + \n",
    "  scale_y_log10() +\n",
    "  labs(title = TeX('Relationship Between $\\\\log_{10}$ of Betweenness Centrality and Outdegree')) +\n",
    "  labs(y = TeX('$\\\\log_{10}$(betweenness)'))"
   ]
  },
  {
   "cell_type": "code",
   "execution_count": null,
   "metadata": {},
   "outputs": [],
   "source": [
    "df %>% \n",
    "  filter(betweenness > 0, outdegree > 0) %>% \n",
    "  ggplot(aes(x = outdegree, y = betweenness)) + \n",
    "  geom_point(na.rm = TRUE, size = 0.5, color = 'red') + \n",
    "  scale_y_log10() +\n",
    "  scale_x_log10() +\n",
    "  labs(title = TeX('Relationship Between $\\\\log_{10}$ of Betweenness Centrality and $\\\\log_{10}$ of Outdegree')) +\n",
    "  labs(y = TeX('$\\\\log_{10}$(betweenness)'),\n",
    "       x = TeX('$\\\\log_{10}$(outdegree)'))"
   ]
  },
  {
   "cell_type": "code",
   "execution_count": null,
   "metadata": {},
   "outputs": [],
   "source": [
    "df %>% \n",
    "  filter(outdegree > 0) %>%\n",
    "  ggplot(aes(x = outdegree, y = eccentricity)) + \n",
    "  geom_point(na.rm = TRUE, size = 0.5, color = 'orange') + \n",
    "  scale_x_log10() +\n",
    "  labs(title = TeX('Relationship Between Eccentricity and $\\\\log_{10}$ of Outdegree')) +\n",
    "  labs(x = TeX('$\\\\log_{10}$(outdegree)'))\n"
   ]
  },
  {
   "cell_type": "code",
   "execution_count": null,
   "metadata": {},
   "outputs": [],
   "source": [
    "df %>% \n",
    "  filter(outdegree > 0) %>%\n",
    "  ggplot(aes(x = outdegree, y = clustering)) + \n",
    "  geom_point(na.rm = TRUE, size = 0.5, color = 'blue') +\n",
    "  scale_x_log10() +\n",
    "  labs(title = TeX('Relationship Between Local Clustering Coefficient and $\\\\log_{10}$ of Outdegree')) +\n",
    "  labs(x = TeX('$\\\\log_{10}$(outdegree)'))"
   ]
  }
 ],
 "metadata": {
  "kernelspec": {
   "display_name": "R",
   "language": "R",
   "name": "ir"
  },
  "language_info": {
   "codemirror_mode": "r",
   "file_extension": ".r",
   "mimetype": "text/x-r-source",
   "name": "R",
   "pygments_lexer": "r",
   "version": "4.0.3"
  }
 },
 "nbformat": 4,
 "nbformat_minor": 4
}
