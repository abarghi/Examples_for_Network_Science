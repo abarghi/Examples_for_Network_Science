{
 "cells": [
  {
   "cell_type": "markdown",
   "metadata": {},
   "source": [
    "# Chap. 3: Random Networks -- Erdos-Renyi\n",
    "\n",
    "## Examples for Teaching from *Network Science*, by Albert-Laszlo Barabasi, Cambridge University Press, 2016\n",
    "\n",
    "### Amir Barghi"
   ]
  },
  {
   "cell_type": "code",
   "execution_count": null,
   "metadata": {},
   "outputs": [],
   "source": [
    "# configuring figure size\n",
    "options(repr.plot.width = 6, repr.plot.height = 4)"
   ]
  },
  {
   "cell_type": "markdown",
   "metadata": {},
   "source": [
    "# Loading Packages"
   ]
  },
  {
   "cell_type": "code",
   "execution_count": null,
   "metadata": {
    "attributes": {
     "": "",
     "classes": [],
     "id": ""
    }
   },
   "outputs": [],
   "source": [
    "library(tidyverse)\n",
    "\n",
    "library(igraph)\n",
    "\n",
    "library(ggraph)\n",
    "\n",
    "library(glue)\n",
    "\n",
    "library(latex2exp)"
   ]
  },
  {
   "cell_type": "markdown",
   "metadata": {},
   "source": [
    "# 3.2 The Random Network Model\n",
    "\n",
    "## $G(N, \\, p)$ Model"
   ]
  },
  {
   "cell_type": "code",
   "execution_count": null,
   "metadata": {},
   "outputs": [],
   "source": [
    "set.seed(42)\n",
    "# the order of the graph\n",
    "n <- 10\n",
    "# the probability that a pair of nodes are adjacent  \n",
    "p <- 0.5\n",
    "# creating an example of G(n, p) model\n",
    "g <- sample_gnp(n, p)\n",
    "\n",
    "# using igraph to visualize a graph\n",
    "plot(g, \n",
    "     layout = layout_in_circle, \n",
    "     vertex.size = 2, \n",
    "     vertex.label = NA, \n",
    "     edge.lty = 3,\n",
    "     main = TeX(glue('An Example of $G(N, \\\\, p)$ Model for $n = $', n, ' and $p = $', p)))\n",
    "\n",
    "# using ggraph to visualize a graph \n",
    "ggraph(g, layout = 'circle') + \n",
    "  geom_edge_fan(edge_linetype = 3, color = 'dark blue', alpha = 0.25) + \n",
    "  geom_node_point(color = 'dark red', size = 2, alpha = 0.75) + \n",
    "  labs(title = TeX(glue('An Example of $G(N, \\\\, p)$ Model for $N = $', n, ' and $p = $', p))) +\n",
    "  theme_graph(base_family = 'Helvetica')"
   ]
  },
  {
   "cell_type": "markdown",
   "metadata": {},
   "source": [
    "## $G(N, \\, L)$ Model"
   ]
  },
  {
   "cell_type": "code",
   "execution_count": null,
   "metadata": {},
   "outputs": [],
   "source": [
    "set.seed(42)\n",
    "# the order of the graph\n",
    "n <- 10\n",
    "# the probability that a pair of nodes are adjacent \n",
    "p <- 0.5\n",
    "# the size of the graph\n",
    "m <- 22\n",
    "# equation 3.0 on p. 75\n",
    "choose(n, 2) * p\n",
    "# creating an example of G(n, l) model\n",
    "g <- sample_gnm(n, m)\n",
    "# using igraph to visualize g\n",
    "plot(g, \n",
    "     layout = layout_in_circle, \n",
    "     vertex.size = 2, \n",
    "     vertex.label = NA, \n",
    "     edge.lty = 3,\n",
    "     main = TeX(glue('An Example of $G(N, \\\\, L)$ Model for $N = $', n, ' and $L = $', m)))\n",
    "# using ggraph to visualize g\n",
    "ggraph(g, layout = 'circle') + \n",
    "  geom_edge_link(edge_linetype = 3, color = 'dark blue', alpha = 0.25) + \n",
    "  geom_node_point(color = 'dark red', size = 2, alpha = 0.75) + \n",
    "  labs(title = TeX(glue('An Example of $G(N, \\\\, L)$ Model for $N = $', n, ' and $L = $', m))) +\n",
    "  theme_graph(base_family = 'Helvetica')"
   ]
  },
  {
   "cell_type": "markdown",
   "metadata": {},
   "source": [
    "Note that $\\binom{n}{2} \\cdot p = \\binom{10}{2} \\cdot 0.5 = 45 \\cdot 0.5 \\approx 22$.  \n",
    "\n",
    "# 3.4 Degree Distribution\n",
    "\n",
    "## 3.4.1 Binomial Distribution"
   ]
  },
  {
   "cell_type": "code",
   "execution_count": null,
   "metadata": {
    "scrolled": false
   },
   "outputs": [],
   "source": [
    "for (n in c(10, 20, 50)) {\n",
    "  \n",
    "  for (p in c(0.1, 0.2, 0.3, 0.4, 0.5)) {\n",
    "    # possible values for X when X ~ Binom(n, p)\n",
    "    x <- c(0:n)\n",
    "    # P(X = x) when X ~ Binom(n, p)\n",
    "    y <- dbinom(x, n, p)\n",
    "    \n",
    "    df <- data.frame(x, y)\n",
    "    \n",
    "    names(df) <- c('x', 'y')\n",
    "    \n",
    "    print(df %>% \n",
    "            ggplot(aes(x = x, y = y)) + \n",
    "            geom_point() + \n",
    "            geom_line(aes(x = n * p), color = 'blue') +\n",
    "            labs(title = TeX(glue('The Binomial Density Function for $n = $', n, ' and $p = $', p)),\n",
    "                 subtitle = TeX(glue('$E\\\\[X\\\\] = n \\\\cdot p = $', n * p, ' (the blue vertical line)')),\n",
    "                 y = TeX('P(X = x)')))\n",
    "    \n",
    "  }\n",
    "  \n",
    "}"
   ]
  },
  {
   "cell_type": "code",
   "execution_count": null,
   "metadata": {
    "scrolled": false
   },
   "outputs": [],
   "source": [
    "for (n in c(100, 500, 1000)) {\n",
    "  \n",
    "  for (p in c(0.2, 0.5, 0.8)) {\n",
    "  \n",
    "      x <- c(0:n)\n",
    "    \n",
    "      y <- dbinom(x, n, p)\n",
    "    \n",
    "      df <- data.frame(x, y)\n",
    "    \n",
    "      names(df) <- c('x', 'y')\n",
    "    \n",
    "      print(df %>% \n",
    "              ggplot(aes(x = x, y = y)) + \n",
    "              geom_bar(stat = 'identity', col = 'red', fill = 'red') + \n",
    "              geom_line(aes(x = n * p), color = 'blue') + \n",
    "              labs(title = TeX(glue('The Binomial Density Function for $n = $', n, ' and $p = $', p)),\n",
    "                 subtitle = TeX(glue('$E\\\\[X\\\\] = n \\\\cdot p =$', n * p, ' (the blue vertical line)')),\n",
    "                 y = TeX('P(X = x)')))\n",
    "      \n",
    "  }\n",
    "  \n",
    "}"
   ]
  },
  {
   "cell_type": "markdown",
   "metadata": {},
   "source": [
    "## 3.4.2 Poisson Distribution"
   ]
  },
  {
   "cell_type": "code",
   "execution_count": null,
   "metadata": {
    "scrolled": false
   },
   "outputs": [],
   "source": [
    "for (n in c(10, 20, 50)) {\n",
    "  \n",
    "  for (p in c(0.1, 0.2, 0.3, 0.4, 0.5)) {\n",
    "    \n",
    "    x <- c(0:n)\n",
    "    # P(X = x) when X ~ Pois(n, p) and X <= n; lambda = n * p\n",
    "    y <- dpois(x, n * p)\n",
    "    \n",
    "    df <- data.frame(x, y)\n",
    "    \n",
    "    names(df) <- c('x', 'y')\n",
    "    \n",
    "    print(df %>% \n",
    "            ggplot(aes(x = x, y = y)) + \n",
    "            geom_point() + \n",
    "            geom_line(aes(x = n * p), color = 'blue') + \n",
    "            labs(title = TeX(glue('The Poisson Density Function for $\\\\lambda$ = ', n * p, \n",
    "                                  ' (n = ', n, ' and p = ', p, ')')),\n",
    "                 subtitle = TeX(glue('$E\\\\[X\\\\] = \\\\lambda = $', n * p, ' (the blue vertical line)')),\n",
    "                 y = 'P(X = x)'))\n",
    "    \n",
    "  }\n",
    "  \n",
    "}"
   ]
  },
  {
   "cell_type": "code",
   "execution_count": null,
   "metadata": {
    "scrolled": false
   },
   "outputs": [],
   "source": [
    "for (n in c(100, 500, 1000)) {\n",
    "  \n",
    "  for (p in c(0.2, 0.5, 0.8)) {\n",
    "    \n",
    "    x <- c(0:n)\n",
    "    # P(X = x) when X ~ Pois(n, p) and X <= n; lambda = n * p\n",
    "    y <- dpois(x, n * p)\n",
    "    \n",
    "    df <- data.frame(x, y)\n",
    "    \n",
    "    names(df) <- c('x', 'y')\n",
    "    \n",
    "    print(df %>% \n",
    "            ggplot(aes(x = x, y = y)) + \n",
    "            geom_bar(stat = 'identity', col = 'red', fill = 'red') + \n",
    "            geom_line(aes(x = n * p), color = 'blue') + \n",
    "            labs(title = TeX(glue('The Poisson Density Function for $\\\\lambda$ = ', n * p, \n",
    "                                  ' (n = ', n, ' and p = ', p, ')')),\n",
    "                 subtitle = TeX(glue('$E\\\\[X\\\\] = \\\\lambda = $', n * p, ' (the blue vertical line)')),\n",
    "                 y = TeX('P(X = x)')))\n",
    "    \n",
    "  }\n",
    "  \n",
    "}"
   ]
  },
  {
   "cell_type": "code",
   "execution_count": null,
   "metadata": {
    "scrolled": false
   },
   "outputs": [],
   "source": [
    "for (n in c(100, 200, 500)) {\n",
    "  \n",
    "  for (p in c(0.1, 0.05, 0.01)) {\n",
    "    \n",
    "    x <- c(0:n)\n",
    "    \n",
    "    y <- dbinom(x, n, p)\n",
    "    \n",
    "    z <- dpois(x, n * p)\n",
    "    \n",
    "    df <- data.frame(x, y, z)\n",
    "    \n",
    "    names(df) <- c('x', 'y', 'z')\n",
    "    \n",
    "    print(df %>% \n",
    "            ggplot(aes(x = x)) + \n",
    "            geom_bar(aes(y = y), stat = 'identity', col = 'red', fill = 'red', alpha = 0.5) + \n",
    "            geom_bar(aes(y = z), stat = 'identity', col = 'blue', fill = 'blue', alpha = 0.3) +\n",
    "            labs(title = glue('Poisson (Red) Versus Binomial (Blue) Density Function \\n for n = ', n, \n",
    "                              ' and p = ', p),\n",
    "                 subtitle = TeX(glue('$\\\\lambda = n \\\\cdot p = $', n * p)),\n",
    "                 y = 'P(X = x)'))\n",
    "    \n",
    "  }\n",
    "  \n",
    "}"
   ]
  },
  {
   "cell_type": "markdown",
   "metadata": {},
   "source": [
    "# 3.3 Number of Links"
   ]
  },
  {
   "cell_type": "code",
   "execution_count": null,
   "metadata": {},
   "outputs": [],
   "source": [
    "# exploring equations 3.1 and 3.2 on p. 76\n",
    "n <- 10\n",
    "\n",
    "M <- choose(n, 2)\n",
    "\n",
    "p <- 0.5\n",
    "\n",
    "x <- c(0:M)\n",
    "\n",
    "y <- dbinom(x, M, p)\n",
    "\n",
    "df <- data.frame(x,y)\n",
    "\n",
    "names(df) <- c('x', 'y')\n",
    "\n",
    "df %>% \n",
    "  ggplot(aes(x = x, y = y)) + \n",
    "  geom_point() + \n",
    "  geom_line(aes(x = M * p), color = 'blue') + \n",
    "  labs(title = TeX(glue('Equations $3.1$ and $3.2$ on p. 76 for $N = $', n, ' and $p = $', p)),\n",
    "       subtitle = TeX(glue('$E\\\\[ L \\\\] = N (N - 1) / 2 \\\\cdot p = $', n * (n - 1) * p / 2)),\n",
    "       x = TeX('$L$'),\n",
    "       y = TeX('$P_L$'))"
   ]
  },
  {
   "cell_type": "markdown",
   "metadata": {},
   "source": [
    "# 3.4 The Degree Distribution"
   ]
  },
  {
   "cell_type": "code",
   "execution_count": null,
   "metadata": {},
   "outputs": [],
   "source": [
    "# exploring equation 3.7 on p. 79\n",
    "n <- 10\n",
    "\n",
    "p <- 0.5\n",
    "\n",
    "x <- c(0:n-1)\n",
    "\n",
    "y <- dbinom(x, n - 1, p)\n",
    "\n",
    "df <- data.frame(x,y)\n",
    "\n",
    "names(df) <- c('x', 'y')\n",
    "\n",
    "df %>% \n",
    "  ggplot(aes(x = x, y = y)) + \n",
    "  geom_point() + \n",
    "  geom_line(aes(x = (n-1) * p), color = 'blue') +\n",
    "  labs(title = TeX(glue('Equation $3.7$ on p. 79 for $N = $', n, ' and $p = $', p)),\n",
    "       x = TeX('$k$'),\n",
    "       y = TeX('$p_k$'))"
   ]
  },
  {
   "cell_type": "markdown",
   "metadata": {},
   "source": [
    "# 3.6 The Evolution of a Random Network"
   ]
  },
  {
   "cell_type": "code",
   "execution_count": null,
   "metadata": {
    "attributes": {
     "": "",
     "classes": [],
     "id": ""
    },
    "scrolled": false
   },
   "outputs": [],
   "source": [
    "set.seed(42)\n",
    "\n",
    "n <- 100\n",
    "\n",
    "for (p in c(0.001, 0.01, 0.015, 0.02, 0.04, 0.05)) {\n",
    "  \n",
    "  g <- sample_gnp(n, p)\n",
    "  \n",
    "  print(ggraph(g, layout = 'circle') + \n",
    "          geom_edge_fan(color = 'dark blue', alpha = 0.05) + \n",
    "          geom_node_point(color = 'dark red', size = 2, alpha = 0.75) + \n",
    "          theme_graph(base_family = 'Helvetica') +\n",
    "          labs(title = TeX('An Example of $G(n, \\\\, p)$ Model'),\n",
    "               subtitle = glue(' n = ', n,\n",
    "                               ';\\np = ', p, \n",
    "                               ';\\nnumber of components = ', components(g)$no, \n",
    "                               ';\\norder of the largest component = ', max(components(g)$csize),\n",
    "                               ';\\naverage degree = ', n * p)))\n",
    "  \n",
    "  writeLines('\\n')\n",
    "  \n",
    "}\n",
    "\n",
    "log(n) / n\n",
    "\n",
    "log(n)"
   ]
  },
  {
   "cell_type": "code",
   "execution_count": null,
   "metadata": {},
   "outputs": [],
   "source": [
    "set.seed(42)\n",
    "\n",
    "n <- 100\n",
    "\n",
    "p <- 0.05\n",
    "\n",
    "g <- sample_gnp(n, p)\n",
    "\n",
    "plot(g, \n",
    "     layout = layout_in_circle, \n",
    "     vertex.size = 2, \n",
    "     vertex.label = NA, \n",
    "     edge.lty = 3,\n",
    "     main = TeX(glue('An Example of $G(N, \\\\, p)$ Model for $n = $', n, ' and $p = $', p)))\n",
    "\n",
    "ggraph(g, layout = 'circle') + \n",
    "  geom_edge_fan(color = 'dark blue', alpha = 0.25) + \n",
    "  geom_node_point(color = 'dark red', size = 2, alpha = 0.75) + \n",
    "    theme_graph(base_family = 'Helvetica') +\n",
    "  labs(title = TeX(glue('An Example of $G(N, \\\\, p)$ Model for $N = $', n, ' and $p = $', p))) \n",
    "\n",
    "\n",
    "components(g)\n",
    "\n",
    "suppressMessages(df <- bind_cols(enframe(degree(g)), \n",
    "                                 enframe(transitivity(g, type = c('local')))))\n",
    "\n",
    "df <- df %>% select(name...1, value...2, value...4)\n",
    "\n",
    "names(df) <- c('name', 'degree', 'clustering')\n",
    "\n",
    "x <- c(0:n)\n",
    "\n",
    "y <- dpois(x, n * p)\n",
    "\n",
    "df2 <- data.frame(x, y)\n",
    "\n",
    "names(df2) <- c('x', 'y')\n",
    "\n",
    "df %>%\n",
    "  ggplot(aes(x = degree, y = ..density..)) + \n",
    "  geom_density(fill = 'red', alpha = 0.5) + \n",
    "  geom_point(data = df2, aes(x = x, y = y), color = 'blue') +\n",
    "  labs(title = TeX('Poisson Density Function (Dots) vs Degree Distribution for $G(N, \\\\, p)$ (Curve)'),\n",
    "       subtitle = TeX(glue('$N = $', n, ' and $p = $', p)))\n",
    "\n",
    "df %>% \n",
    "  ggplot(aes(x = degree, y = ..density..)) +\n",
    "  geom_histogram(fill = 'red', color = 'blue', binwidth = 1) +\n",
    "  labs(title = TeX('Histogram of Degree Distribution for $G(N, \\\\, p)$'),\n",
    "       subtitle = TeX(glue('$N = $', n, ' and $p = $', p)))\n",
    "\n",
    "df %>% \n",
    "  ggplot(aes(x = clustering, y = ..density..)) + \n",
    "  geom_density(fill = 'red', alpha = 0.5, na.rm = TRUE) +\n",
    "  labs(title = TeX('KDE of Local Clustering Coefficient for $G(N, \\\\, p)$'),\n",
    "       subtitle = TeX(glue('$N = $', n, ' and $p = $', p)))"
   ]
  }
 ],
 "metadata": {
  "kernelspec": {
   "display_name": "R",
   "language": "R",
   "name": "ir"
  },
  "language_info": {
   "codemirror_mode": "r",
   "file_extension": ".r",
   "mimetype": "text/x-r-source",
   "name": "R",
   "pygments_lexer": "r",
   "version": "4.0.3"
  }
 },
 "nbformat": 4,
 "nbformat_minor": 4
}
